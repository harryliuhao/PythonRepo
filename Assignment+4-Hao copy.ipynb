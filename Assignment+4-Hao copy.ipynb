{
 "cells": [
  {
   "cell_type": "markdown",
   "metadata": {},
   "source": [
    "---\n",
    "\n",
    "_You are currently looking at **version 1.1** of this notebook. To download notebooks and datafiles, as well as get help on Jupyter notebooks in the Coursera platform, visit the [Jupyter Notebook FAQ](https://www.coursera.org/learn/python-data-analysis/resources/0dhYG) course resource._\n",
    "\n",
    "---"
   ]
  },
  {
   "cell_type": "code",
   "execution_count": null,
   "metadata": {
    "collapsed": true
   },
   "outputs": [],
   "source": [
    "import os\n",
    "import pandas as pd\n",
    "import numpy as np\n",
    "import statsmodels.api as sm\n",
    "import matplotlib.pyplot as plt\n",
    "import re\n",
    "from scipy.stats import ttest_ind"
   ]
  },
  {
   "cell_type": "markdown",
   "metadata": {},
   "source": [
    "# Assignment 4 - Hypothesis Testing\n",
    "This assignment requires more individual learning than previous assignments - you are encouraged to check out the [pandas documentation](http://pandas.pydata.org/pandas-docs/stable/) to find functions or methods you might not have used yet, or ask questions on [Stack Overflow](http://stackoverflow.com/) and tag them as pandas and python related. And of course, the discussion forums are open for interaction with your peers and the course staff.\n",
    "\n",
    "Definitions:\n",
    "* A _quarter_ is a specific three month period, Q1 is January through March, Q2 is April through June, Q3 is July through September, Q4 is October through December.\n",
    "* A _recession_ is defined as starting with two consecutive quarters of GDP decline, and ending with two consecutive quarters of GDP growth.\n",
    "* A _recession bottom_ is the quarter within a recession which had the lowest GDP.\n",
    "* A _university town_ is a city which has a high percentage of university students compared to the total population of the city.\n",
    "\n",
    "**Hypothesis**: University towns have their mean housing prices less effected by recessions. Run a t-test to compare the ratio of the mean price of houses in university towns the quarter before the recession starts compared to the recession bottom. (`price_ratio=quarter_before_recession/recession_bottom`)\n",
    "\n",
    "The following data files are available for this assignment:\n",
    "* From the [Zillow research data site](http://www.zillow.com/research/data/) there is housing data for the United States. In particular the datafile for [all homes at a city level](http://files.zillowstatic.com/research/public/City/City_Zhvi_AllHomes.csv), ```City_Zhvi_AllHomes.csv```, has median home sale prices at a fine grained level.\n",
    "* From the Wikipedia page on college towns is a list of [university towns in the United States](https://en.wikipedia.org/wiki/List_of_college_towns#College_towns_in_the_United_States) which has been copy and pasted into the file ```university_towns.txt```.\n",
    "* From Bureau of Economic Analysis, US Department of Commerce, the [GDP over time](http://www.bea.gov/national/index.htm#gdp) of the United States in current dollars (use the chained value in 2009 dollars), in quarterly intervals, in the file ```gdplev.xls```. For this assignment, only look at GDP data from the first quarter of 2000 onward.\n",
    "\n",
    "Each function in this assignment below is worth 10%, with the exception of ```run_ttest()```, which is worth 50%."
   ]
  },
  {
   "cell_type": "code",
   "execution_count": null,
   "metadata": {},
   "outputs": [],
   "source": [
    "# Use this dictionary to map state names to two letter acronyms\n",
    "states = {'OH': 'Ohio', 'KY': 'Kentucky', 'AS': 'American Samoa', 'NV': 'Nevada', 'WY': 'Wyoming', 'NA': 'National', 'AL': 'Alabama', 'MD': 'Maryland', 'AK': 'Alaska', 'UT': 'Utah', 'OR': 'Oregon', 'MT': 'Montana', 'IL': 'Illinois', 'TN': 'Tennessee', 'DC': 'District of Columbia', 'VT': 'Vermont', 'ID': 'Idaho', 'AR': 'Arkansas', 'ME': 'Maine', 'WA': 'Washington', 'HI': 'Hawaii', 'WI': 'Wisconsin', 'MI': 'Michigan', 'IN': 'Indiana', 'NJ': 'New Jersey', 'AZ': 'Arizona', 'GU': 'Guam', 'MS': 'Mississippi', 'PR': 'Puerto Rico', 'NC': 'North Carolina', 'TX': 'Texas', 'SD': 'South Dakota', 'MP': 'Northern Mariana Islands', 'IA': 'Iowa', 'MO': 'Missouri', 'CT': 'Connecticut', 'WV': 'West Virginia', 'SC': 'South Carolina', 'LA': 'Louisiana', 'KS': 'Kansas', 'NY': 'New York', 'NE': 'Nebraska', 'OK': 'Oklahoma', 'FL': 'Florida', 'CA': 'California', 'CO': 'Colorado', 'PA': 'Pennsylvania', 'DE': 'Delaware', 'NM': 'New Mexico', 'RI': 'Rhode Island', 'MN': 'Minnesota', 'VI': 'Virgin Islands', 'NH': 'New Hampshire', 'MA': 'Massachusetts', 'GA': 'Georgia', 'ND': 'North Dakota', 'VA': 'Virginia'}"
   ]
  },
  {
   "cell_type": "code",
   "execution_count": null,
   "metadata": {},
   "outputs": [],
   "source": [
    "def get_list_of_university_towns():\n",
    "    '''Returns a DataFrame of towns and the states they are in from the \n",
    "    university_towns.txt list. The format of the DataFrame should be:\n",
    "    DataFrame( [ [\"Michigan\", \"Ann Arbor\"], [\"Michigan\", \"Yipsilanti\"] ], \n",
    "    columns=[\"State\", \"RegionName\"]  )\n",
    "    \n",
    "    The following cleaning needs to be done:\n",
    "\n",
    "    1. For \"State\", removing characters from \"[\" to the end.\n",
    "    2. For \"RegionName\", when applicable, removing every character from \" (\" to the end.\n",
    "    3. Depending on how you read the data, you may need to remove newline character '\\n'. '''\n",
    "    \n",
    "    fname='university_towns.txt'\n",
    "\n",
    "    dfTemp = pd.DataFrame([line.rstrip('\\n') for line in open(fname)])\n",
    "    dfTemp.columns=['lineName']\n",
    "\n",
    "    #find state name rows that have a unique regex pattern\n",
    "    dfTemp['TownFlag']=0\n",
    "    dfTemp.loc[dfTemp['lineName'].str.contains('\\w+\\[edit\\]'),'TownFlag']=1\n",
    "    #create state column and forward fill NaN values\n",
    "    dfTemp['State']=dfTemp['lineName'].where(dfTemp['TownFlag']==1)\n",
    "    dfTemp['State']=dfTemp['State'].str.replace('\\[edit\\]','')      \n",
    "    dfTemp['State'].ffill(inplace=True)\n",
    "\n",
    "    #create RegionName column\n",
    "    reRegionPat=\" \\(.*|\\[.*\"\n",
    "    dfTemp['RegionName']=dfTemp['lineName'].where(dfTemp['TownFlag']==0)\n",
    "    dfTemp['RegionName']=dfTemp['RegionName'].str.replace(reRegionPat,'')\n",
    "    dfTemp['RegionName']=dfTemp['RegionName'].str.strip()\n",
    "    #keep only two columns\n",
    "    dfTown=dfTemp.loc[dfTemp['TownFlag']==0,['State','RegionName']]\n",
    "    dfTown.reset_index(inplace=True)\n",
    "    dfTown['index']=range(517)\n",
    "    dfTown.set_index('index',inplace=True)\n",
    "    dfTown['State'].replace(regex=True,inplace=True,to_replace=r'^[^a-zA-Z]+',value=r'') #remove special characters at the beginning\n",
    "\n",
    "    return dfTown"
   ]
  },
  {
   "cell_type": "code",
   "execution_count": null,
   "metadata": {},
   "outputs": [],
   "source": [
    "gdpfile='gdplev.xls'\n",
    "dfTemp=pd.read_excel(gdpfile,skiprows=4,header=1)\n",
    "dfTemp=dfTemp.iloc[2:,[4,6]]\n",
    "dfTemp.columns=['Quarter','GDP']\n",
    " \n",
    "dfGDP=dfTemp[dfTemp['Quarter']>'1999q4']\n",
    "dfGDP['Growth']=dfGDP['GDP'].pct_change()\n",
    "\n",
    "def get_recession_start():\n",
    "    '''Returns the year and quarter of the recession start time as a \n",
    "    string value in a format such as 2005q3'''\n",
    "    for i in range(1,len(dfGDP)):\n",
    "        if dfGDP.iloc[i-1,2]>0 and dfGDP.iloc[i,2]<0 and dfGDP.iloc[i+1,2]<0: return (dfGDP.iloc[i,0]) \n",
    "    "
   ]
  },
  {
   "cell_type": "code",
   "execution_count": null,
   "metadata": {},
   "outputs": [],
   "source": [
    "def get_recession_end():\n",
    "    '''Returns the year and quarter of the recession end time as a \n",
    "    string value in a format such as 2005q3'''\n",
    "    for i in range(1,len(dfGDP)):\n",
    "        if dfGDP.iloc[i-3,2]<0 and dfGDP.iloc[i-2,2]<0 and dfGDP.iloc[i-1,2]>0 and dfGDP.iloc[i,2]>0: return (dfGDP.iloc[i,0])    \n",
    "    "
   ]
  },
  {
   "cell_type": "code",
   "execution_count": null,
   "metadata": {},
   "outputs": [],
   "source": [
    "def get_recession_bottom():\n",
    "    '''Returns the year and quarter of the recession bottom time as a \n",
    "    string value in a format such as 2005q3'''\n",
    "    IndexEnd=dfGDP[dfGDP['Quarter']==get_recession_end()].index[0] #ending index loc\n",
    "    #lowest GDP is the period that last the last negative growth rate\n",
    "    dfTrough=dfGDP.loc[IndexEnd-2]#loc uses index, opposed to iloc using row number\n",
    "    return dfTrough['Quarter']\n"
   ]
  },
  {
   "cell_type": "code",
   "execution_count": null,
   "metadata": {},
   "outputs": [],
   "source": [
    "def convert_housing_data_to_quarters():\n",
    "    csvfile='City_Zhvi_AllHomes.csv'\n",
    "    dfTemp=pd.read_csv(csvfile)\n",
    "    dfColumn=dfTemp.iloc[:,6:].columns.values #monthly columns starts at :6\n",
    "    dfColumn=dfColumn[(dfColumn>'2000') & (dfColumn<'2016-10')] #get thr range of columns to convert to quarters\n",
    "    dfMonthly=dfTemp.loc[:,dfColumn] #separate monthly data columns from main df\n",
    "    dfQuarterly=pd.concat([dfMonthly.iloc[:,i:i+3].mean(axis=1) for i in range(0, len(dfMonthly.columns),3)],axis=1) #I still don't fully understand pd.concat yet\n",
    "    \n",
    "    ListYear=list(range(2000,2017))\n",
    "    ListQuarter=['q1','q2','q3','q4']#observe those two lines on different syntax to construct a list\n",
    "    ListColumnName=[]\n",
    "    for i in ListYear:\n",
    "        for j in ListQuarter:\n",
    "            ListColumnName.append(str(i)+j)\n",
    "    \n",
    "    ListColumnName=ListColumnName[:-1:1] #use -1 to remove the last extra column\n",
    "    dfQuarterly.columns=ListColumnName\n",
    "    \n",
    "    dfHousing=pd.concat([dfTemp[['State','RegionName']],dfQuarterly],axis=1) #two dfs being concat need to be in a list as input for pd.concat\n",
    "    dfHousing.replace({'State':states},inplace=True)\n",
    "    dfHousing.set_index(['State','RegionName'],inplace=True)\n",
    "    \n",
    "    return dfHousing"
   ]
  },
  {
   "cell_type": "code",
   "execution_count": null,
   "metadata": {},
   "outputs": [],
   "source": [
    "def run_ttest():\n",
    "    '''First creates new data showing the decline or growth of housing prices\n",
    "    between the recession start and the recession bottom. Then runs a ttest\n",
    "    comparing the university town values to the non-university towns values, \n",
    "    return whether the alternative hypothesis (that the two groups are the same)\n",
    "    is true or not as well as the p-value of the confidence. \n",
    "    \n",
    "    Return the tuple (different, p, better) where different=True if the t-test is\n",
    "    True at a p<0.01 (we reject the null hypothesis), or different=False if \n",
    "    otherwise (we cannot reject the null hypothesis). The variable p should\n",
    "    be equal to the exact p value returned from scipy.stats.ttest_ind(). The\n",
    "    value for better should be either \"university town\" or \"non-university town\"\n",
    "    depending on which has a lower mean price ratio (which is equivilent to a\n",
    "    reduced market loss).'''\n",
    "    start=get_recession_start()\n",
    "    bottom=get_recession_bottom()\n",
    "    dfHousingPrice=convert_housing_data_to_quarters()\n",
    "    dfRecession=dfHousingPrice.loc[:,start:bottom]\n",
    "    dfRecession.reset_index(inplace=True)\n",
    "    dfTown=get_list_of_university_towns()\n",
    "    dfTown['UniTown']=1\n",
    "    \n",
    "    dfRecession['Growth']=(dfRecession[bottom]-dfRecession[start])/dfRecession[start]\n",
    "    dfRecession=pd.merge(dfRecession,dfTown,on=['State','RegionName'],how='left')\n",
    "    \n",
    "    dfTownPrice=dfRecession[dfRecession['UniTown']==1]\n",
    "    dfNoTownPrice=dfRecession[dfRecession['UniTown']!=1]\n",
    "    \n",
    "    dfTown=dfTownPrice['Growth'].dropna()\n",
    "    dfNoTown=dfNoTownPrice['Growth'].dropna()\n",
    "    \n",
    "    if dfTown.mean()> dfNoTown.mean():\n",
    "        better='university town'\n",
    "    else:\n",
    "        better='non-university town'\n",
    "    \n",
    "    pVal=list(ttest_ind(dfNoTown,dfTown))[1]\n",
    "    \n",
    "    if pVal<0.01:\n",
    "        different=True\n",
    "    else:\n",
    "        different=False\n",
    "    return (different,pVal,better)"
   ]
  }
 ],
 "metadata": {
  "coursera": {
   "course_slug": "python-data-analysis",
   "graded_item_id": "Il9Fx",
   "launcher_item_id": "TeDW0",
   "part_id": "WGlun"
  },
  "kernelspec": {
   "display_name": "Python 3",
   "language": "python",
   "name": "python3"
  },
  "language_info": {
   "codemirror_mode": {
    "name": "ipython",
    "version": 3
   },
   "file_extension": ".py",
   "mimetype": "text/x-python",
   "name": "python",
   "nbconvert_exporter": "python",
   "pygments_lexer": "ipython3",
   "version": "3.6.1"
  }
 },
 "nbformat": 4,
 "nbformat_minor": 1
}
