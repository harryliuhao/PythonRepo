{
 "cells": [
  {
   "cell_type": "code",
   "execution_count": 5,
   "metadata": {},
   "outputs": [],
   "source": [
    "import pandas as pd\n",
    "import numpy as np\n",
    "import os\n",
    "\n",
    "os.getcwd()\n",
    "os.chdir('C:/Users/Hao Liu/Documents/2_python')\n",
    "\n",
    "def df_clean(data):\n",
    "    newData = ''.join([i for i in data if not i.isdigit()])\n",
    "    i = newData.find('(')\n",
    "    if i>-1: newData = newData[:i]\n",
    "    return newData.strip()\n",
    "\n",
    "def answer_one():\n",
    "    \"\"\"import the first dataset\"\"\"\n",
    "    df=pd.read_excel(\"Energy Indicators.xls\",skiprows=17,skip_footer=38,na_values='...')\n",
    "    energy=df.iloc[:,2:6]\n",
    "    energy.columns=['Country', 'Energy Supply', 'Energy Supply per Capita', '% Renewable']\n",
    "    energy['Energy Supply']=energy['Energy Supply']*1000000.0\n",
    "\n",
    "    energy['Country'] = energy['Country'].apply(df_clean)\n",
    "    di = {\"Republic of Korea\": \"South Korea\",\n",
    "    \"United States of America\": \"United States\",\n",
    "    \"United Kingdom of Great Britain and Northern Ireland\": \"United Kingdom\",\n",
    "    \"China, Hong Kong Special Administrative Region\": \"Hong Kong\"}\n",
    "    energy.replace({\"Country\": di},inplace = True)\n",
    "\n",
    "\n",
    "    \"\"\"import the gdp dataset\"\"\"\n",
    "    gdp=pd.read_csv(\"API_NY.GDP.MKTP.CD_DS2_en_csv_v2.csv\",skiprows=3)\n",
    "    di={\"Korea, Rep.\": \"South Korea\", \n",
    "    \"Iran, Islamic Rep.\": \"Iran\",\n",
    "    \"Hong Kong SAR, China\": \"Hong Kong\"}\n",
    "    gdp.replace({\"Country Name\":di},inplace=True)\n",
    "    gdp.rename(columns={'Country Name':'Country'},inplace=True)\n",
    "    gdp10=gdp.loc[:,['Country','Country Code','Indicator Name','Indicator Code','2006', '2007', '2008', '2009', '2010', '2011', '2012', '2013', '2014', '2015']]\n",
    "\n",
    "    \"\"\"import the index dataset\"\"\"\n",
    "    ScimEn=pd.read_excel(\"scimagojr.xlsx\")\n",
    "    ScimEn15=ScimEn[ScimEn[\"Rank\"]<16]\n",
    "\n",
    "    \"\"\"merge\"\"\"\n",
    "    df=pd.merge(pd.merge(energy,gdp10,on='Country'),ScimEn15,on='Country')\n",
    "    df.set_index('Country',inplace=True)\n",
    "    df=df.loc[:,['Rank', 'Documents', 'Citable documents', 'Citations', 'Self-citations', 'Citations per document', 'H index', 'Energy Supply', 'Energy Supply per Capita', '% Renewable', '2006', '2007', '2008', '2009', '2010', '2011', '2012', '2013', '2014', '2015']]\n",
    "\n",
    "\n",
    "    return df\n",
    "\n"
   ]
  },
  {
   "cell_type": "code",
   "execution_count": 10,
   "metadata": {},
   "outputs": [
    {
     "data": {
      "text/plain": [
       "(15, 20)"
      ]
     },
     "execution_count": 10,
     "metadata": {},
     "output_type": "execute_result"
    }
   ],
   "source": [
    "df=answer_one()\n",
    "df.shape\n"
   ]
  },
  {
   "cell_type": "code",
   "execution_count": null,
   "metadata": {
    "collapsed": true
   },
   "outputs": [],
   "source": [
    "Top15 = answer_one()\n",
    "cols=['2006', '2007', '2008', '2009', '2010', '2011', '2012', '2013', '2014', '2015']\n",
    "test=Top15[cols].mean(axis=1).sort_values(ascending=False).rename('avgGDP')"
   ]
  }
 ],
 "metadata": {
  "kernelspec": {
   "display_name": "Python 3",
   "language": "python",
   "name": "python3"
  },
  "language_info": {
   "codemirror_mode": {
    "name": "ipython",
    "version": 3
   },
   "file_extension": ".py",
   "mimetype": "text/x-python",
   "name": "python",
   "nbconvert_exporter": "python",
   "pygments_lexer": "ipython3",
   "version": "3.6.1"
  }
 },
 "nbformat": 4,
 "nbformat_minor": 2
}
